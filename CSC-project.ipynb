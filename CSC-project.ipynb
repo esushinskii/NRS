{
 "cells": [
  {
   "cell_type": "markdown",
   "metadata": {},
   "source": [
    "# Вводная"
   ]
  },
  {
   "cell_type": "markdown",
   "metadata": {},
   "source": [
    "Для тестовых целей возьмем MovieLens-100k и будем считать, что рейтинги нам неизвестны - т.е., превратим его в implicit feedback-датасет."
   ]
  },
  {
   "cell_type": "code",
   "execution_count": 1,
   "metadata": {
    "collapsed": true
   },
   "outputs": [],
   "source": [
    "import pandas as pd\n",
    "import numpy as np\n",
    "import matplotlib.pyplot as plt\n",
    "import seaborn as sns\n",
    "import os\n",
    "\n",
    "%matplotlib inline"
   ]
  },
  {
   "cell_type": "code",
   "execution_count": 2,
   "metadata": {
    "collapsed": true
   },
   "outputs": [],
   "source": [
    "MOVIELENS_PATH = '/home/anglerfish/mlens/dataset/ml-100k'\n",
    "\n",
    "def read_implicit_mlens_data(file_name):\n",
    "    df = pd.read_csv(\n",
    "        os.path.join(MOVIELENS_PATH, file_name), sep='\\t',\n",
    "        names=['user', 'item', 'rating', 'timestamp'], header=None\n",
    "    )\n",
    "    df = df[['user', 'item']]\n",
    "    # users and items are enumerated from 1, shift that to 0 \n",
    "    df['user'] -= 1\n",
    "    df['item'] -= 1\n",
    "    return df\n",
    "\n",
    "df_train = read_implicit_mlens_data('u1.base')\n",
    "df_test = read_implicit_mlens_data('u1.test')\n"
   ]
  },
  {
   "cell_type": "markdown",
   "metadata": {},
   "source": [
    "Сделаем baseline-модель, которая будет рекомендовать по популярности."
   ]
  },
  {
   "cell_type": "code",
   "execution_count": 3,
   "metadata": {
    "collapsed": false
   },
   "outputs": [],
   "source": [
    "from sklearn.base import BaseEstimator as BaseSklearnEstimator\n",
    "\n",
    "\n",
    "class BaseEstimator(BaseSklearnEstimator):\n",
    "    \n",
    "    def __init__(self, n_users, n_items):\n",
    "        self.n_users = n_users\n",
    "        self.n_items = n_items\n",
    "        \n",
    "    def fit(self, df):\n",
    "        raise NotImplementedError\n",
    "        \n",
    "    def predict(self, users, n):\n",
    "        # predicts top-n recommendations for each user from df\n",
    "        raise NotImplementedError\n",
    "        \n",
    "    def score(self, df):\n",
    "        # for each pair of (user, item) from df\n",
    "        # outputs a score\n",
    "        raise NotImplementedError\n",
    "        \n",
    "    def filter_by_already_owned_items(self, recommendations, owned_items):\n",
    "        # preventing the recommender from recommending items\n",
    "        # user already owns\n",
    "        idx = np.in1d(recommendations['item'], owned_items['item'])\n",
    "        return recommendations[~idx]\n",
    "    \n",
    "    def get_sparse_matrix(self, df):\n",
    "        return sparse.csr_matrix(\n",
    "            (np.ones(len(df)), (np.int32(df['user']), np.int32(df['item']))),\n",
    "            shape=(self.n_users, self.n_items)\n",
    "        )\n",
    "    \n",
    "    \n",
    "\n",
    "def bincount_relative(arr, length):\n",
    "    assert np.max(arr) < length, 'Required length should be greater than max(arr)+1'\n",
    "    counts = np.bincount(arr, minlength=length).astype(np.float32)\n",
    "    counts /= counts.sum()\n",
    "    return counts\n",
    "           \n",
    "\n",
    "class Popular(BaseEstimator):\n",
    "    \n",
    "    def fit(self, df):\n",
    "        self._owned_items = df.copy()\n",
    "        \n",
    "        items, counts = np.unique(df['item'], return_counts=True)\n",
    "        idx = np.argsort(counts)[::-1]\n",
    "        popularity = counts / float(counts.sum())\n",
    "        \n",
    "        # store popularity scores sorted from top to bottom for top-n recommendations\n",
    "        self._top_items = items[idx]\n",
    "        self._top_scores = popularity[idx]\n",
    "        \n",
    "        # also store popularity scores sorted by item order for score lookups\n",
    "        idx = np.argsort(items)\n",
    "        self._popularity = bincount_relative(df['item'].values, self.n_items)\n",
    "        \n",
    "        return self\n",
    "        \n",
    "    def predict(self, users, n):\n",
    "        result = []\n",
    "        \n",
    "        owned_item_dict = {\n",
    "            user: user_items for user, user_items in\n",
    "            self._owned_items[self._owned_items['user'].isin(users)].groupby('user')\n",
    "        }\n",
    "        \n",
    "        for user in users:\n",
    "            user_items = owned_item_dict.get(user, [])\n",
    "            # cannot filter out more then len(user_items) recommendations\n",
    "            # therefore we need n + len(user_items) candidates\n",
    "            n_candidates = n + len(user_items)\n",
    "            \n",
    "            user_recommendations = pd.DataFrame(dict(\n",
    "                user=np.repeat(user, n_candidates),\n",
    "                item=self._top_items[:n_candidates],\n",
    "                value=self._top_scores[:n_candidates]\n",
    "            ))\n",
    "            if len(user_items) > 0:\n",
    "                user_recommendations = self.filter_by_already_owned_items(\n",
    "                    user_recommendations, user_items\n",
    "                ).iloc[:n]\n",
    "            result.append(user_recommendations)\n",
    "        \n",
    "        return pd.concat(result)\n",
    "            \n",
    "    def score(self, df):\n",
    "        result = df.copy()\n",
    "        result['value'] = self._popularity[result['item']]\n",
    "        return result"
   ]
  },
  {
   "cell_type": "code",
   "execution_count": 4,
   "metadata": {
    "collapsed": false
   },
   "outputs": [
    {
     "data": {
      "text/plain": [
       "Popular(n_items=1682, n_users=943)"
      ]
     },
     "execution_count": 4,
     "metadata": {},
     "output_type": "execute_result"
    }
   ],
   "source": [
    "n_users = 943\n",
    "n_items = 1682\n",
    "\n",
    "model = Popular(n_users, n_items)\n",
    "model.fit(df_train)"
   ]
  },
  {
   "cell_type": "code",
   "execution_count": 5,
   "metadata": {
    "collapsed": false
   },
   "outputs": [
    {
     "data": {
      "text/html": [
       "<div>\n",
       "<table border=\"1\" class=\"dataframe\">\n",
       "  <thead>\n",
       "    <tr style=\"text-align: right;\">\n",
       "      <th></th>\n",
       "      <th>item</th>\n",
       "      <th>user</th>\n",
       "      <th>value</th>\n",
       "    </tr>\n",
       "  </thead>\n",
       "  <tbody>\n",
       "    <tr>\n",
       "      <th>2</th>\n",
       "      <td>257</td>\n",
       "      <td>0</td>\n",
       "      <td>0.005025</td>\n",
       "    </tr>\n",
       "    <tr>\n",
       "      <th>3</th>\n",
       "      <td>99</td>\n",
       "      <td>0</td>\n",
       "      <td>0.004938</td>\n",
       "    </tr>\n",
       "    <tr>\n",
       "      <th>4</th>\n",
       "      <td>293</td>\n",
       "      <td>0</td>\n",
       "      <td>0.004925</td>\n",
       "    </tr>\n",
       "    <tr>\n",
       "      <th>5</th>\n",
       "      <td>287</td>\n",
       "      <td>0</td>\n",
       "      <td>0.004888</td>\n",
       "    </tr>\n",
       "    <tr>\n",
       "      <th>6</th>\n",
       "      <td>285</td>\n",
       "      <td>0</td>\n",
       "      <td>0.004850</td>\n",
       "    </tr>\n",
       "    <tr>\n",
       "      <th>0</th>\n",
       "      <td>49</td>\n",
       "      <td>1</td>\n",
       "      <td>0.006050</td>\n",
       "    </tr>\n",
       "    <tr>\n",
       "      <th>1</th>\n",
       "      <td>180</td>\n",
       "      <td>1</td>\n",
       "      <td>0.005275</td>\n",
       "    </tr>\n",
       "    <tr>\n",
       "      <th>8</th>\n",
       "      <td>120</td>\n",
       "      <td>1</td>\n",
       "      <td>0.004412</td>\n",
       "    </tr>\n",
       "    <tr>\n",
       "      <th>10</th>\n",
       "      <td>173</td>\n",
       "      <td>1</td>\n",
       "      <td>0.004300</td>\n",
       "    </tr>\n",
       "    <tr>\n",
       "      <th>12</th>\n",
       "      <td>55</td>\n",
       "      <td>1</td>\n",
       "      <td>0.003900</td>\n",
       "    </tr>\n",
       "  </tbody>\n",
       "</table>\n",
       "</div>"
      ],
      "text/plain": [
       "    item  user     value\n",
       "2    257     0  0.005025\n",
       "3     99     0  0.004938\n",
       "4    293     0  0.004925\n",
       "5    287     0  0.004888\n",
       "6    285     0  0.004850\n",
       "0     49     1  0.006050\n",
       "1    180     1  0.005275\n",
       "8    120     1  0.004412\n",
       "10   173     1  0.004300\n",
       "12    55     1  0.003900"
      ]
     },
     "execution_count": 5,
     "metadata": {},
     "output_type": "execute_result"
    }
   ],
   "source": [
    "model.predict(df_test['user'].unique()[:2], n=5).head(10)"
   ]
  },
  {
   "cell_type": "markdown",
   "metadata": {},
   "source": [
    "Теперь добавим немного метрик, чтобы посчитать успешность порекомендованного. Ограничимся пока чем-нибудь несложным типа precision@k, усредненным по юзерам."
   ]
  },
  {
   "cell_type": "code",
   "execution_count": 16,
   "metadata": {
    "collapsed": false
   },
   "outputs": [],
   "source": [
    "def precision_score_at_k(df_test, df_predict, k):\n",
    "    df_test_dict = {user: user_items for user, user_items in df_test.groupby('user')}\n",
    "    scores = []\n",
    "    for user, recommendations in df_predict.groupby('user'):\n",
    "        user_items = df_test_dict.get(user, [])\n",
    "        if len(user_items) == 0:\n",
    "            continue\n",
    "        intersection = np.intersect1d(user_items['item'], recommendations['item'].iloc[:k])\n",
    "        n_matches = float(len(intersection))\n",
    "        scores.append(n_matches / min(k, len(user_items)))\n",
    "    if not scores:\n",
    "        raise Exception(\"Users from test and train set don't intersect!\")\n",
    "    else:\n",
    "        return np.mean(scores)\n"
   ]
  },
  {
   "cell_type": "code",
   "execution_count": 113,
   "metadata": {
    "collapsed": false
   },
   "outputs": [
    {
     "data": {
      "text/plain": [
       "0.32389251997095136"
      ]
     },
     "execution_count": 113,
     "metadata": {},
     "output_type": "execute_result"
    }
   ],
   "source": [
    "df_predict = model.predict(df_test['user'].unique(), n=5)\n",
    "precision_score_at_k(df_test, df_predict, k=5)"
   ]
  },
  {
   "cell_type": "markdown",
   "metadata": {},
   "source": [
    "Добавим второй baseline: классических item-item ближайших соседей."
   ]
  },
  {
   "cell_type": "code",
   "execution_count": 116,
   "metadata": {
    "collapsed": true
   },
   "outputs": [],
   "source": [
    "from scipy import sparse\n",
    "from sklearn.neighbors import NearestNeighbors\n",
    "\n",
    "\n",
    "class ItemItem(BaseEstimator):\n",
    "    \n",
    "    def __init__(self, n_users, n_items, k=50, metric='cosine'):\n",
    "        super(ItemItem, self).__init__(n_users, n_items)\n",
    "        self.k = k\n",
    "        self.metric = metric\n",
    "        \n",
    "    def neighbors_to_similarity(self, distances, indices):\n",
    "        row_idx = np.repeat(np.arange(self.n_items), self.k)\n",
    "        col_idx = indices.ravel(order='C')\n",
    "        value = (1 - distances).ravel(order='C')\n",
    "\n",
    "        # add diagonal entries\n",
    "        row_idx = np.hstack([row_idx, np.arange(self.n_items)])\n",
    "        col_idx = np.hstack([col_idx, np.arange(self.n_items)])\n",
    "        value = np.hstack([value, np.ones(self.n_items)])\n",
    "        \n",
    "        return sparse.csr_matrix(\n",
    "            (value, (row_idx, col_idx)), shape=(self.n_items, self.n_items), dtype=np.float32\n",
    "        )\n",
    "        \n",
    "    def fit(self, df):\n",
    "        self._owned_items = df.copy()\n",
    "        \n",
    "        interaction_matrix = self.get_sparse_matrix(df)  # it's users x items by default, so transpose it\n",
    "        knn = NearestNeighbors(n_neighbors=self.k, algorithm='brute', metric=self.metric).fit(interaction_matrix.T)\n",
    "        distances, indices = knn.kneighbors()\n",
    "        \n",
    "        # reconstruct similarity matrix from neighbors\n",
    "        similarity = self.neighbors_to_similarity(distances, indices)\n",
    "        \n",
    "        self._predictions = interaction_matrix.dot(similarity)\n",
    "        return self\n",
    "    \n",
    "    def predict(self, users, n):\n",
    "        result = []\n",
    "        item_ids = np.arange(self.n_items)\n",
    "        owned_item_dict = {\n",
    "            user: user_items for user, user_items in\n",
    "            self._owned_items[self._owned_items['user'].isin(users)].groupby('user')\n",
    "        }\n",
    "        \n",
    "        for user in users:\n",
    "            user_items = owned_item_dict.get(user, [])\n",
    "            n_candidates = n + len(user_items)\n",
    "            \n",
    "            scores = self._predictions[user, :].toarray().ravel()\n",
    "            idx = np.argpartition(-scores, n_candidates)[:n_candidates]\n",
    "            \n",
    "            user_recommendations = pd.DataFrame(dict(\n",
    "                user=np.repeat(user, n_candidates),\n",
    "                item=item_ids[idx],\n",
    "                value=scores[idx]\n",
    "            ))\n",
    "            if len(user_items) > 0:\n",
    "                user_recommendations = self.filter_by_already_owned_items(\n",
    "                    user_recommendations, user_items\n",
    "                ).iloc[:n]\n",
    "                \n",
    "            # argpartition doesn't sort top-n values, so let's not forget to do it here\n",
    "            result.append(user_recommendations.sort_values(by=['value']))\n",
    "\n",
    "        return pd.concat(result)\n",
    "    \n",
    "    def score(self, df):\n",
    "        return self._predictions[df['user'], df['item']]\n",
    "        \n",
    "        "
   ]
  },
  {
   "cell_type": "code",
   "execution_count": 117,
   "metadata": {
    "collapsed": false
   },
   "outputs": [
    {
     "data": {
      "text/plain": [
       "0.42309368191721142"
      ]
     },
     "execution_count": 117,
     "metadata": {},
     "output_type": "execute_result"
    }
   ],
   "source": [
    "model = ItemItem(n_users, n_items, k=5)\n",
    "model.fit(df_train)\n",
    "df_predict = model.predict(df_test['user'].unique(), n=5)\n",
    "precision_score_at_k(df_test, df_predict, k=5)"
   ]
  },
  {
   "cell_type": "markdown",
   "metadata": {},
   "source": [
    "Попробуем модель на основе BPR. Чтобы не писать все самому, можно пока воспользоваться готовыми решениями - для Питона, например, есть lightfm."
   ]
  },
  {
   "cell_type": "code",
   "execution_count": 124,
   "metadata": {
    "collapsed": true
   },
   "outputs": [],
   "source": [
    "from lightfm import LightFM\n",
    "\n",
    "\n",
    "class LightfmBPR(BaseEstimator):\n",
    "    \n",
    "    def __init__(self, n_users, n_items, params=None, n_epochs=30):\n",
    "        super(LightfmBPR, self).__init__(n_users, n_items)\n",
    "        self.params = params or {}\n",
    "        self.n_epochs = n_epochs\n",
    "        \n",
    "    def fit(self, df):\n",
    "        self._owned_items = df.copy()\n",
    "\n",
    "        # convert data to sparse matrix\n",
    "        matrix = sparse.csr_matrix(\n",
    "            (np.ones(len(df)), (np.int32(df['user']), np.int32(df['item']))),\n",
    "            shape=(self.n_users, self.n_items)\n",
    "        )\n",
    "        \n",
    "        self._lightfm = LightFM(**self.params)\n",
    "        self._lightfm.fit(matrix, epochs=self.n_epochs, num_threads=4)\n",
    "        \n",
    "        return self\n",
    "        \n",
    "    def predict(self, users, n):\n",
    "        result = []\n",
    "        item_ids = np.arange(self.n_items)\n",
    "        owned_item_dict = {\n",
    "            user: user_items for user, user_items in\n",
    "            self._owned_items[self._owned_items['user'].isin(users)].groupby('user')\n",
    "        }\n",
    "        for user in users:\n",
    "            user_items = owned_item_dict.get(user, [])\n",
    "            n_candidates = n + len(user_items)\n",
    "            \n",
    "            scores = self._lightfm.predict(user, item_ids)\n",
    "            idx = np.argpartition(-scores, n_candidates)[:n_candidates]\n",
    "            \n",
    "            user_recommendations = pd.DataFrame(dict(\n",
    "                user=np.repeat(user, n_candidates),\n",
    "                item=item_ids[idx],\n",
    "                value=scores[idx]\n",
    "            ))\n",
    "            if len(user_items) > 0:\n",
    "                user_recommendations = self.filter_by_already_owned_items(\n",
    "                    user_recommendations, user_items\n",
    "                ).iloc[:n]\n",
    "                \n",
    "            # argpartition doesn't sort top-n values, so let's not forget to do it here\n",
    "            result.append(user_recommendations.sort_values(by=['value']))\n",
    "        \n",
    "        return pd.concat(result)\n",
    "        \n",
    "        \n",
    "    def score(self, df):\n",
    "        result = df.copy()\n",
    "        result['value'] = self._lightfm.predict(df['user'], df['item'])\n",
    "        return result"
   ]
  },
  {
   "cell_type": "code",
   "execution_count": 125,
   "metadata": {
    "collapsed": false
   },
   "outputs": [
    {
     "data": {
      "text/plain": [
       "0.34662309368191724"
      ]
     },
     "execution_count": 125,
     "metadata": {},
     "output_type": "execute_result"
    }
   ],
   "source": [
    "model = LightfmBPR(n_users, n_items, params={'loss': 'bpr'})\n",
    "model.fit(df_train)\n",
    "df_predict = model.predict(df_test['user'].unique(), n=5)\n",
    "precision_score_at_k(df_test, df_predict, k=5)"
   ]
  },
  {
   "cell_type": "markdown",
   "metadata": {},
   "source": [
    "Частично проблему видно уже здесь, даже при том, что мы не трогали параметры модели, число латентных факторов и т.д. - результат значительно хуже, чем у ItemItem (и сравним с популярным бейзлайном). Но если включить более умный сэмплер (warp), все сразу становится лучше:"
   ]
  },
  {
   "cell_type": "code",
   "execution_count": 126,
   "metadata": {
    "collapsed": false
   },
   "outputs": [
    {
     "data": {
      "text/plain": [
       "0.42883079157588966"
      ]
     },
     "execution_count": 126,
     "metadata": {},
     "output_type": "execute_result"
    }
   ],
   "source": [
    "model = LightfmBPR(n_users, n_items, params={'loss': 'warp'})\n",
    "model.fit(df_train)\n",
    "df_predict = model.predict(df_test['user'].unique(), n=5)\n",
    "precision_score_at_k(df_test, df_predict, k=5)"
   ]
  },
  {
   "cell_type": "markdown",
   "metadata": {},
   "source": [
    "# Датасет с мобильными приложениям\n",
    "\n",
    "Попробуем сделать то же самое с нашим искомым датасетом: для демонстрации я пока взял только небольшой кусок. В отличие от mlens, он не побит сразу на train и test, и нам это надо для начала сделать. Тактика такая: сначала выбираем N тестовых юзеров, потом разделяем их айтемы на train и test части. В случае с mlens мы гоняли тесты на всех юзерах сразу, потому что их было немного, но в новом датасете их ~500k, поэтому придется выбирать подмножество. Для разбивки можно пользоваться вот такой тулзой по образу и подобию sklearn cross-validation:"
   ]
  },
  {
   "cell_type": "code",
   "execution_count": 20,
   "metadata": {
    "collapsed": true
   },
   "outputs": [],
   "source": [
    "class UserBasedShuffleSplit(object):\n",
    "    \"\"\"\n",
    "    Cross-validation for recommenders splits test and train sets\n",
    "    across items of the same users: i.e., if item I of user U is\n",
    "    present in a test set, user U (with some other items) must\n",
    "    also be present in the corresponding train set.\n",
    "    \"\"\"\n",
    "\n",
    "    def __init__(self, array, test_user_size=0.1, test_item_size=1, n_splits=1):\n",
    "        assert isinstance(test_user_size, (int, float)), 'test_user_size must be int or float'\n",
    "        assert isinstance(test_item_size, int), 'test_user_size must be integer'\n",
    "\n",
    "        self.array = array[['user', 'item']].copy()\n",
    "        self.array['index'] = np.arange(len(self.array))\n",
    "        self.test_user_size = test_user_size\n",
    "        self.test_item_size = test_item_size\n",
    "        self.n_splits = n_splits\n",
    "\n",
    "    def get_splittable_users(self):\n",
    "        \"\"\"\n",
    "        Returns all suitable users (those who have sufficient\n",
    "        amount of items).\n",
    "        \"\"\"\n",
    "        users, counts = np.unique(self.array['user'], return_counts=True)\n",
    "        return users[counts > self.test_item_size]\n",
    "\n",
    "    def get_subset_to_split(self, splittable_users):\n",
    "        \"\"\"\n",
    "        Returns a subset of original `array` which contains users\n",
    "        with sufficient amount of items to split into two sets.\n",
    "        \"\"\"\n",
    "        if isinstance(self.test_user_size, float):\n",
    "            test_user_size = int(self.test_user_size * len(splittable_users))\n",
    "        else:\n",
    "            test_user_size = self.test_user_size\n",
    "        return self.array[np.in1d(\n",
    "            self.array['user'],\n",
    "            np.random.choice(splittable_users, test_user_size, replace=False)\n",
    "        )]\n",
    "\n",
    "    def __len__(self):\n",
    "        return self.n_splits\n",
    "\n",
    "    def __iter__(self):\n",
    "        self.splittable_users = self.get_splittable_users()\n",
    "        for _ in xrange(self.n_splits):\n",
    "            splittable_subset = self.get_subset_to_split(self.splittable_users)\n",
    "            test_idx = []\n",
    "            for user, subset in splittable_subset.groupby('user'):\n",
    "                test_idx.append(self.split_user(subset))\n",
    "\n",
    "            test_idx = np.hstack(test_idx)\n",
    "            train_idx = np.setdiff1d(np.arange(len(self.array)), test_idx)\n",
    "            yield train_idx, test_idx\n",
    "\n",
    "    def split_user(self, subset):\n",
    "        return np.random.choice(subset['index'], self.test_item_size, replace=False)"
   ]
  },
  {
   "cell_type": "code",
   "execution_count": 21,
   "metadata": {
    "collapsed": false
   },
   "outputs": [
    {
     "data": {
      "text/html": [
       "<div>\n",
       "<table border=\"1\" class=\"dataframe\">\n",
       "  <thead>\n",
       "    <tr style=\"text-align: right;\">\n",
       "      <th></th>\n",
       "      <th>user</th>\n",
       "      <th>item</th>\n",
       "    </tr>\n",
       "  </thead>\n",
       "  <tbody>\n",
       "    <tr>\n",
       "      <th>0</th>\n",
       "      <td>12156</td>\n",
       "      <td>5527</td>\n",
       "    </tr>\n",
       "    <tr>\n",
       "      <th>1</th>\n",
       "      <td>7982</td>\n",
       "      <td>15525</td>\n",
       "    </tr>\n",
       "    <tr>\n",
       "      <th>2</th>\n",
       "      <td>5614</td>\n",
       "      <td>13600</td>\n",
       "    </tr>\n",
       "    <tr>\n",
       "      <th>3</th>\n",
       "      <td>465</td>\n",
       "      <td>14937</td>\n",
       "    </tr>\n",
       "    <tr>\n",
       "      <th>4</th>\n",
       "      <td>465</td>\n",
       "      <td>9556</td>\n",
       "    </tr>\n",
       "  </tbody>\n",
       "</table>\n",
       "</div>"
      ],
      "text/plain": [
       "    user   item\n",
       "0  12156   5527\n",
       "1   7982  15525\n",
       "2   5614  13600\n",
       "3    465  14937\n",
       "4    465   9556"
      ]
     },
     "execution_count": 21,
     "metadata": {},
     "output_type": "execute_result"
    }
   ],
   "source": [
    "LAUNCHER_SAMPLE_PATH = '/home/anglerfish/launcher_sample.csv'\n",
    "\n",
    "launcher = pd.read_csv(LAUNCHER_SAMPLE_PATH)\n",
    "launcher.head()"
   ]
  },
  {
   "cell_type": "code",
   "execution_count": 22,
   "metadata": {
    "collapsed": false
   },
   "outputs": [],
   "source": [
    "cv = UserBasedShuffleSplit(launcher, test_user_size=1000, test_item_size=10)\n",
    "train_idx, test_idx = next(iter(cv))\n",
    "\n",
    "df_train = launcher.iloc[train_idx]\n",
    "df_test = launcher.iloc[test_idx]"
   ]
  },
  {
   "cell_type": "code",
   "execution_count": 23,
   "metadata": {
    "collapsed": false
   },
   "outputs": [
    {
     "data": {
      "text/plain": [
       "0.086800000000000016"
      ]
     },
     "execution_count": 23,
     "metadata": {},
     "output_type": "execute_result"
    }
   ],
   "source": [
    "n_users = launcher['user'].nunique()\n",
    "n_items = launcher['item'].nunique()\n",
    "\n",
    "model = Popular(n_users, n_items)\n",
    "model.fit(df_train)\n",
    "df_predict = model.predict(df_test['user'].unique(), n=5)\n",
    "precision_score_at_k(df_test, df_predict, k=5)"
   ]
  },
  {
   "cell_type": "code",
   "execution_count": 143,
   "metadata": {
    "collapsed": false
   },
   "outputs": [
    {
     "data": {
      "text/plain": [
       "0.14360000000000003"
      ]
     },
     "execution_count": 143,
     "metadata": {},
     "output_type": "execute_result"
    }
   ],
   "source": [
    "model = ItemItem(n_users, n_items)\n",
    "model.fit(df_train)\n",
    "df_predict = model.predict(df_test['user'].unique(), n=5)\n",
    "precision_score_at_k(df_test, df_predict, k=5)"
   ]
  },
  {
   "cell_type": "code",
   "execution_count": 144,
   "metadata": {
    "collapsed": false
   },
   "outputs": [
    {
     "data": {
      "text/plain": [
       "0.065600000000000006"
      ]
     },
     "execution_count": 144,
     "metadata": {},
     "output_type": "execute_result"
    }
   ],
   "source": [
    "model = LightfmBPR(n_users, n_items, params={'loss': 'bpr'})\n",
    "model.fit(df_train)\n",
    "df_predict = model.predict(df_test['user'].unique(), n=5)\n",
    "precision_score_at_k(df_test, df_predict, k=5)"
   ]
  },
  {
   "cell_type": "code",
   "execution_count": 145,
   "metadata": {
    "collapsed": false
   },
   "outputs": [
    {
     "data": {
      "text/plain": [
       "0.10280000000000002"
      ]
     },
     "execution_count": 145,
     "metadata": {},
     "output_type": "execute_result"
    }
   ],
   "source": [
    "model = LightfmBPR(n_users, n_items, params={'loss': 'warp'})\n",
    "model.fit(df_train)\n",
    "df_predict = model.predict(df_test['user'].unique(), n=5)\n",
    "precision_score_at_k(df_test, df_predict, k=5)"
   ]
  },
  {
   "cell_type": "markdown",
   "metadata": {},
   "source": [
    "Видимо, что все плохо: BPR работает хуже, чем популярный бейзлайн, хотя warp-семплер все еще сильно ему помогает. Но ItemItem по-прежнему тащит лучше всех, и это не радует. Предполагаемая причина заключается вот в этом:"
   ]
  },
  {
   "cell_type": "code",
   "execution_count": 152,
   "metadata": {
    "collapsed": false
   },
   "outputs": [
    {
     "data": {
      "image/png": "[encoded data removed]",
      "text/plain": [
       "<matplotlib.figure.Figure at 0x7f753c5ede10>"
      ]
     },
     "metadata": {},
     "output_type": "display_data"
    }
   ],
   "source": [
    "plt.figure(figsize=(14, 4))\n",
    "\n",
    "for i, (df, title) in enumerate([\n",
    "    (read_implicit_mlens_data('u1.base'), 'Mlens'),\n",
    "    (df_train, 'Launcher')\n",
    "], start=1):\n",
    "    plt.subplot(1, 2, i)\n",
    "    plt.title(title)\n",
    "    _, counts = np.unique(df['item'], return_counts=True)\n",
    "    counts.sort()\n",
    "    counts = counts / float(counts.sum())\n",
    "    plt.plot(counts)\n",
    "plt.show()"
   ]
  },
  {
   "cell_type": "markdown",
   "metadata": {},
   "source": [
    "Распределение айтемов в лончерном датасете намного более сильно скошено в сторону головы, что согласуется с наблюдениями в статье Рендла."
   ]
  },
  {
   "cell_type": "markdown",
   "metadata": {},
   "source": [
    "# Пишем свой BPR\n",
    "\n",
    "Чтобы экспериментировать с сэмплерами, нам понадобится своя модель. Я содрал реализацию [отсюда](https://github.com/bbc/theano-bpr), но поскольку Theano уже не очень живой, переделал ее на Tensorflow."
   ]
  },
  {
   "cell_type": "markdown",
   "metadata": {},
   "source": [
    "Напишем сначала классы для сэмплеров. Сэмплер должен принимать на вход df, а выдавать аналогичный датафрейм с колонками user и item, где айтемы будут подбираться из числа implicit negatives - т.е., выходных сочетаний user-item **не** должно быть в оригинальном фрейме.\n",
    "\n",
    "В текущем простом виде это означает следующее: нам нужно взять юзера, засэмплить для него какой-то количество айтемов, а потом проверить, что таких у него еще нет. Если получим случайное совпадение - повторять до тех пор, пока их не останется. Такую наиванильнейшую реализацию сэмплинга можно подсмотреть в том же [theano-bpr](https://github.com/bbc/theano-bpr/blob/master/theano_bpr/bpr.py#L180). Она очень читабельная, но у нее есть фатальный недостаток - она еще и очень медленная. np.random.choice работает сильно лучше в векторизованом виде, поэтому можно немного пожертвовать читабельностью и сэмплить айтемы сразу для всех юзеров, а потом в цикле искать совпадения. Реализация приведена ниже:"
   ]
  },
  {
   "cell_type": "code",
   "execution_count": 9,
   "metadata": {
    "collapsed": false
   },
   "outputs": [],
   "source": [
    "import pandas as pd\n",
    "\n",
    "class Sampler(object):\n",
    "    \n",
    "    def __init__(self, df, n_items, factor=1, max_attempts=100):\n",
    "        self.df = df\n",
    "        self.n_items = n_items\n",
    "        self.factor = factor\n",
    "        self.max_attempts = max_attempts\n",
    "        \n",
    "        \n",
    "class StaticSampler(Sampler):\n",
    "            \n",
    "    def sample(self):\n",
    "        n_samples = len(self.df) * self.factor\n",
    "        \n",
    "        # make a user-by-items dictionary\n",
    "        data_dict = {}\n",
    "        for user, user_items in self.df.groupby('user'):\n",
    "            data_dict[user] = set(user_items['item'])\n",
    "\n",
    "        sampled_users = np.repeat(self.df['user'].values, self.factor)\n",
    "        left_out_users = np.arange(n_samples)\n",
    "        sampled_negative_items = np.zeros(n_samples)\n",
    "    \n",
    "        weights = self.get_distribution()\n",
    "\n",
    "        # sample negative items by sampling all items at once\n",
    "        # and then retrying for items that are in `data_dict`\n",
    "        attempts = 0\n",
    "        while len(left_out_users) > 0 and attempts < self.max_attempts:\n",
    "            failed = []\n",
    "            neg_items = np.random.choice(self.n_items, p=weights, size=len(left_out_users))\n",
    "            for item_idx, user_idx in enumerate(left_out_users):\n",
    "                user = sampled_users[user_idx]\n",
    "                item = neg_items[item_idx]\n",
    "                if item in data_dict[user]:\n",
    "                    failed.append(user_idx)\n",
    "                else:\n",
    "                    sampled_negative_items[user_idx] = item\n",
    "            if len(left_out_users) == len(failed):\n",
    "                attempts += 1\n",
    "            left_out_users = failed\n",
    "            \n",
    "        if len(left_out_users) != 0:\n",
    "            raise ValueError(\n",
    "                \"Couldn't sample enough implicit negatives: {} users left out\".format(\n",
    "                    len(left_out_users)\n",
    "                )\n",
    "            )\n",
    "\n",
    "        return pd.DataFrame(dict(\n",
    "            user=sampled_users,\n",
    "            item=np.int32(sampled_negative_items)\n",
    "        ))\n",
    "        \n",
    "            \n",
    "class UniformSampler(StaticSampler):\n",
    "    \n",
    "    def get_distribution(self):\n",
    "        return np.ones(self.n_items) / float(self.n_items)\n",
    "    \n",
    "    \n",
    "class EmpiricalSampler(StaticSampler):\n",
    "    \n",
    "    def get_distribution(self):\n",
    "        # weight items according to popularity\n",
    "        return bincount_relative(self.df['item'], self.n_items)\n",
    "        "
   ]
  },
  {
   "cell_type": "code",
   "execution_count": 185,
   "metadata": {
    "collapsed": false
   },
   "outputs": [],
   "source": [
    "s = EmpiricalSampler(df_train, n_items)\n",
    "negatives = s.sample()\n",
    "positive_pairs = set(zip(df_train['user'], df_train['item']))\n",
    "negative_pairs = set(zip(negatives['user'], negatives['item']))\n",
    "\n",
    "assert len(positive_pairs.intersection(negative_pairs)) == 0"
   ]
  },
  {
   "cell_type": "markdown",
   "metadata": {},
   "source": [
    "Дальше сделаем сам класс."
   ]
  },
  {
   "cell_type": "code",
   "execution_count": 14,
   "metadata": {
    "collapsed": false
   },
   "outputs": [],
   "source": [
    "import tensorflow as tf\n",
    "\n",
    "class BPR(BaseEstimator):\n",
    "    \n",
    "    def __init__(self, n_users, n_items, sampler_class,\n",
    "                 user_regularization=0.0025,\n",
    "                 positive_item_regularization=0.0025,\n",
    "                 negative_item_regularization=0.00025,\n",
    "                 bias_regularization=0.0,\n",
    "                 learning_rate=0.01,\n",
    "                 n_features=50,\n",
    "                 batch_size=1000,\n",
    "                 n_epochs=20):\n",
    "        super(BPR, self).__init__(n_users, n_items)\n",
    "        self.sampler_class = sampler_class\n",
    "        self.user_regularization = user_regularization\n",
    "        self.positive_item_regularization = positive_item_regularization\n",
    "        self.negative_item_regularization = negative_item_regularization\n",
    "        self.bias_regularization = bias_regularization\n",
    "        self.learning_rate = learning_rate\n",
    "        self.n_features = n_features\n",
    "        self.batch_size = batch_size\n",
    "        self.n_epochs = n_epochs\n",
    "        \n",
    "        self.user_idx = tf.placeholder(tf.int32, [None])\n",
    "        self.positive_item_idx = tf.placeholder(tf.int32, [None])\n",
    "        self.negative_item_idx = tf.placeholder(tf.int32, [None])\n",
    "        self.build_graph()\n",
    "        \n",
    "    def build_graph(self):\n",
    "        self.user_emeddings = tf.Variable(\n",
    "            tf.random_normal([self.n_users, self.n_features], mean=0.0, stddev=0.1)\n",
    "        )\n",
    "        self.item_embeddings = tf.Variable(\n",
    "            tf.random_normal([self.n_items, self.n_features], mean=0.0, stddev=0.1)\n",
    "        )\n",
    "        self.item_biases = tf.Variable(\n",
    "            tf.zeros([self.n_items])\n",
    "        )\n",
    "\n",
    "        users = tf.nn.embedding_lookup(\n",
    "            self.user_emeddings, self.user_idx\n",
    "        )\n",
    "        positive_items = tf.nn.embedding_lookup(\n",
    "            self.item_embeddings, self.positive_item_idx\n",
    "        )\n",
    "        positive_item_bias = tf.nn.embedding_lookup(\n",
    "            self.item_biases, self.positive_item_idx\n",
    "        )\n",
    "        negative_items = tf.nn.embedding_lookup(\n",
    "            self.item_embeddings, self.negative_item_idx\n",
    "        )\n",
    "        negative_item_bias = tf.nn.embedding_lookup(\n",
    "            self.item_biases, self.negative_item_idx\n",
    "        )\n",
    "        \n",
    "        positive_interactions = tf.diag_part(tf.matmul(\n",
    "            users, tf.transpose(positive_items)\n",
    "        )) + positive_item_bias\n",
    "        negative_interactions = tf.diag_part(tf.matmul(\n",
    "            users, tf.transpose(negative_items)\n",
    "        )) + negative_item_bias\n",
    "        objective = tf.reduce_sum(\n",
    "            tf.log(tf.nn.sigmoid(\n",
    "                positive_interactions - negative_interactions\n",
    "            )) -\n",
    "            self.user_regularization * tf.reduce_sum(tf.pow(users, 2), axis=1) - \n",
    "            self.positive_item_regularization * tf.reduce_sum(tf.pow(positive_items, 2), axis=1) -\n",
    "            self.negative_item_regularization * tf.reduce_sum(tf.pow(negative_items, 2), axis=1) -\n",
    "            self.bias_regularization * (\n",
    "                tf.pow(positive_item_bias, 2) +\n",
    "                tf.pow(negative_item_bias, 2)\n",
    "            )\n",
    "        )\n",
    "        self.cost = -objective\n",
    "        self.train = tf.train.AdamOptimizer(self.learning_rate).minimize(\n",
    "            self.cost,\n",
    "            var_list=[self.user_emeddings, self.item_embeddings, self.item_biases]\n",
    "        )\n",
    "        self.prediction = positive_interactions\n",
    "        \n",
    "    def fit(self, df):\n",
    "        self._owned_items = df.copy()\n",
    "        \n",
    "        init = tf.global_variables_initializer()\n",
    "        session = tf.InteractiveSession()\n",
    "        session.run(init)\n",
    "        \n",
    "        sampler = self.sampler_class(df, self.n_items)\n",
    "        df_negative = sampler.sample()\n",
    "        \n",
    "        for epoch in range(self.n_epochs):\n",
    "            costs = []\n",
    "            for batch_idx in xrange(0, len(df) - self.batch_size, self.batch_size):\n",
    "                positive_batch = df[batch_idx: batch_idx + self.batch_size]\n",
    "                negative_batch = df_negative[batch_idx: batch_idx + self.batch_size]\n",
    "                params = {\n",
    "                    self.user_idx: np.int32(positive_batch['user']),\n",
    "                    self.positive_item_idx: np.int32(positive_batch['item']),\n",
    "                    self.negative_item_idx: np.int32(negative_batch['item'])\n",
    "                }\n",
    "                _, cost = session.run([self.train, self.cost], params)\n",
    "                costs.append(cost / self.batch_size)\n",
    "            print 'epoch', epoch, 'train loss', np.mean(costs)\n",
    "    \n",
    "    def predict(self, users, n):\n",
    "        result = []\n",
    "        item_ids = np.arange(self.n_items)\n",
    "        owned_item_dict = {\n",
    "            user: user_items for user, user_items in\n",
    "            self._owned_items[self._owned_items['user'].isin(users)].groupby('user')\n",
    "        }\n",
    "        \n",
    "        users = np.int32(users)\n",
    "        user_embeddings = self.user_emeddings.eval()[users, :]\n",
    "        item_embeddings = self.item_embeddings.eval().T\n",
    "        item_biases = self.item_biases.eval()\n",
    "        \n",
    "        for i, user in enumerate(users):\n",
    "            user_items = owned_item_dict.get(user, [])\n",
    "            n_candidates = n + len(user_items)\n",
    "            \n",
    "            scores = (\n",
    "                user_embeddings[i].reshape(1, self.n_features).dot(item_embeddings) +\n",
    "                item_biases\n",
    "            ).ravel()\n",
    "            idx = np.argpartition(-scores, n_candidates)[:n_candidates]\n",
    "            \n",
    "            user_recommendations = pd.DataFrame(dict(\n",
    "                user=np.repeat(user, n_candidates),\n",
    "                item=item_ids[idx],\n",
    "                value=scores[idx]\n",
    "            ))\n",
    "            if len(user_items) > 0:\n",
    "                user_recommendations = self.filter_by_already_owned_items(\n",
    "                    user_recommendations, user_items\n",
    "                ).iloc[:n]\n",
    "                \n",
    "            result.append(user_recommendations.sort_values(by=['value']))\n",
    "        \n",
    "        return pd.concat(result)"
   ]
  },
  {
   "cell_type": "code",
   "execution_count": 24,
   "metadata": {
    "collapsed": false
   },
   "outputs": [
    {
     "name": "stdout",
     "output_type": "stream",
     "text": [
      "epoch 0 train loss 0.420092424547\n",
      "epoch 1 train loss 0.159423685479\n",
      "epoch 2 train loss 0.0609791634828\n",
      "epoch 3 train loss 0.0469853703709\n",
      "epoch 4 train loss 0.0439875918355\n",
      "epoch 5 train loss 0.0425525149194\n",
      "epoch 6 train loss 0.0415514389465\n",
      "epoch 7 train loss 0.0408371816215\n",
      "epoch 8 train loss 0.040330353203\n",
      "epoch 9 train loss 0.0399652271418\n",
      "epoch 10 train loss 0.0397044016348\n",
      "epoch 11 train loss 0.0395352795354\n",
      "epoch 12 train loss 0.0397939762498\n",
      "epoch 13 train loss 0.0407404784714\n",
      "epoch 14 train loss 0.0422387396765\n",
      "epoch 15 train loss 0.0426373509882\n",
      "epoch 16 train loss 0.041459986278\n",
      "epoch 17 train loss 0.0398295369388\n",
      "epoch 18 train loss 0.0388730050312\n",
      "epoch 19 train loss 0.0385923461914\n"
     ]
    },
    {
     "data": {
      "text/plain": [
       "0.069000000000000006"
      ]
     },
     "execution_count": 24,
     "metadata": {},
     "output_type": "execute_result"
    }
   ],
   "source": [
    "model = BPR(n_users, n_items, sampler_class=UniformSampler)\n",
    "model.fit(df_train)\n",
    "df_predict = model.predict(df_test['user'].unique(), n=5)\n",
    "precision_score_at_k(df_test, df_predict, k=5)"
   ]
  },
  {
   "cell_type": "code",
   "execution_count": 26,
   "metadata": {
    "collapsed": false
   },
   "outputs": [],
   "source": [
    "uniform_sampler_predictions = df_predict.copy()"
   ]
  },
  {
   "cell_type": "code",
   "execution_count": 28,
   "metadata": {
    "collapsed": false
   },
   "outputs": [
    {
     "name": "stdout",
     "output_type": "stream",
     "text": [
      "epoch 0 train loss 0.671308547443\n",
      "epoch 1 train loss 0.332555174426\n",
      "epoch 2 train loss 0.132005211598\n",
      "epoch 3 train loss 0.0870138952925\n",
      "epoch 4 train loss 0.0791039937583\n",
      "epoch 5 train loss 0.0768154152903\n",
      "epoch 6 train loss 0.0758402482036\n",
      "epoch 7 train loss 0.0754455930349\n",
      "epoch 8 train loss 0.0754046203068\n",
      "epoch 9 train loss 0.0756912728019\n",
      "epoch 10 train loss 0.0762085213606\n",
      "epoch 11 train loss 0.0770736479373\n",
      "epoch 12 train loss 0.0785167017462\n",
      "epoch 13 train loss 0.0814809785791\n",
      "epoch 14 train loss 0.0853597871199\n",
      "epoch 15 train loss 0.0860325593691\n",
      "epoch 16 train loss 0.0818899249957\n",
      "epoch 17 train loss 0.0795738562359\n",
      "epoch 18 train loss 0.0784014782998\n",
      "epoch 19 train loss 0.0782131375346\n"
     ]
    },
    {
     "data": {
      "text/plain": [
       "0.0091999999999999998"
      ]
     },
     "execution_count": 28,
     "metadata": {},
     "output_type": "execute_result"
    }
   ],
   "source": [
    "model = BPR(n_users, n_items, sampler_class=EmpiricalSampler)\n",
    "model.fit(df_train)\n",
    "empirical_sampler_predictions = model.predict(df_test['user'].unique(), n=5)\n",
    "precision_score_at_k(df_test, empirical_sampler_predictions, k=5)"
   ]
  },
  {
   "cell_type": "markdown",
   "metadata": {},
   "source": [
    "Unform-сэмплер примерно воспроизвел то же, что и LightFM, а вот с empirical все совсем плохо, и метрика получается ужасная. Проверим теперь гипотезу о том, что uniform пытается быть похожим на popular baseline, а empirical - наоборот."
   ]
  },
  {
   "cell_type": "code",
   "execution_count": 29,
   "metadata": {
    "collapsed": false
   },
   "outputs": [
    {
     "data": {
      "text/plain": [
       "Popular(n_items=21601, n_users=17583)"
      ]
     },
     "execution_count": 29,
     "metadata": {},
     "output_type": "execute_result"
    }
   ],
   "source": [
    "model = Popular(n_users, n_items)\n",
    "model.fit(df_train)"
   ]
  },
  {
   "cell_type": "code",
   "execution_count": 34,
   "metadata": {
    "collapsed": false
   },
   "outputs": [
    {
     "data": {
      "image/png": "[encoded data removed]",
      "text/plain": [
       "<matplotlib.figure.Figure at 0x7efcb83a81d0>"
      ]
     },
     "metadata": {},
     "output_type": "display_data"
    }
   ],
   "source": [
    "uniform_popularity = model.score(uniform_sampler_predictions)['value']\n",
    "empirical_popularity = model.score(empirical_sampler_predictions)['value']\n",
    "\n",
    "plt.figure(figsize=(14, 4))\n",
    "\n",
    "plt.subplot(1, 2, 1)\n",
    "plt.title('Popularity scores for recommendations with uniform sampler')\n",
    "plt.hist(uniform_popularity, bins='auto')\n",
    "\n",
    "plt.subplot(1, 2, 2)\n",
    "plt.title('Popularity scores for recommendations with empirical sampler')\n",
    "plt.hist(empirical_popularity, bins='auto')\n",
    "\n",
    "plt.show()"
   ]
  },
  {
   "cell_type": "code",
   "execution_count": 54,
   "metadata": {
    "collapsed": false
   },
   "outputs": [
    {
     "data": {
      "image/png": "[encoded data removed]",
      "text/plain": [
       "<matplotlib.figure.Figure at 0x7efca986d4d0>"
      ]
     },
     "metadata": {},
     "output_type": "display_data"
    }
   ],
   "source": [
    "from scipy.stats import pearsonr\n",
    "\n",
    "plt.figure(figsize=(12, 4))\n",
    "plt.subplot(1, 2, 1)\n",
    "plt.title(\"Uniform BPR score vs popularity\")\n",
    "\n",
    "plt.scatter(\n",
    "    uniform_sampler_predictions['value'],\n",
    "    uniform_popularity, s=10\n",
    ")\n",
    "\n",
    "plt.subplot(1, 2, 2)\n",
    "plt.title(\"Empirical BPR score vs popularity\")\n",
    "\n",
    "plt.scatter(\n",
    "    empirical_sampler_predictions['value'],\n",
    "    empirical_popularity, s=10\n",
    ")\n",
    "\n",
    "plt.show()"
   ]
  },
  {
   "cell_type": "code",
   "execution_count": 56,
   "metadata": {
    "collapsed": false
   },
   "outputs": [
    {
     "name": "stdout",
     "output_type": "stream",
     "text": [
      "Correlation with popularity:\n",
      "uniform scores: 0.446088\n",
      "empirical scores: -0.042632\n"
     ]
    }
   ],
   "source": [
    "print 'Correlation with popularity:'\n",
    "print 'uniform scores:', pearsonr(uniform_popularity, uniform_sampler_predictions['value'])[0]\n",
    "print 'empirical scores:', pearsonr(empirical_popularity, empirical_sampler_predictions['value'])[0]"
   ]
  },
  {
   "cell_type": "code",
   "execution_count": null,
   "metadata": {
    "collapsed": true
   },
   "outputs": [],
   "source": []
  }
 ],
 "metadata": {
  "kernelspec": {
   "display_name": "Python 3",
   "language": "python",
   "name": "python3"
  },
  "language_info": {
   "codemirror_mode": {
    "name": "ipython",
    "version": 3
   },
   "file_extension": ".py",
   "mimetype": "text/x-python",
   "name": "python",
   "nbconvert_exporter": "python",
   "pygments_lexer": "ipython3",
   "version": "3.6.0"
  }
 },
 "nbformat": 4,
 "nbformat_minor": 2
}
